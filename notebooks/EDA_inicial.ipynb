{
  "cells": [
    {
      "cell_type": "code",
      "execution_count": 1,
      "metadata": {},
      "outputs": [
        {
          "ename": "NameError",
          "evalue": "name '__file__' is not defined",
          "output_type": "error",
          "traceback": [
            "\u001b[0;31m---------------------------------------------------------------------------\u001b[0m",
            "\u001b[0;31mNameError\u001b[0m                                 Traceback (most recent call last)",
            "Cell \u001b[0;32mIn[1], line 16\u001b[0m\n\u001b[1;32m     13\u001b[0m pd\u001b[38;5;241m.\u001b[39mset_option(\u001b[38;5;124m\"\u001b[39m\u001b[38;5;124mdisplay.max_columns\u001b[39m\u001b[38;5;124m\"\u001b[39m, \u001b[38;5;241m100\u001b[39m)\n\u001b[1;32m     14\u001b[0m sns\u001b[38;5;241m.\u001b[39mset(style\u001b[38;5;241m=\u001b[39m\u001b[38;5;124m\"\u001b[39m\u001b[38;5;124mwhitegrid\u001b[39m\u001b[38;5;124m\"\u001b[39m, context\u001b[38;5;241m=\u001b[39m\u001b[38;5;124m\"\u001b[39m\u001b[38;5;124mnotebook\u001b[39m\u001b[38;5;124m\"\u001b[39m)\n\u001b[0;32m---> 16\u001b[0m PROJECT_ROOT \u001b[38;5;241m=\u001b[39m Path(\u001b[38;5;18;43m__file__\u001b[39;49m)\u001b[38;5;241m.\u001b[39mresolve()\u001b[38;5;241m.\u001b[39mparents[\u001b[38;5;241m1\u001b[39m]\n\u001b[1;32m     17\u001b[0m RAW_DIR \u001b[38;5;241m=\u001b[39m PROJECT_ROOT \u001b[38;5;241m/\u001b[39m \u001b[38;5;124m\"\u001b[39m\u001b[38;5;124mdata\u001b[39m\u001b[38;5;124m\"\u001b[39m \u001b[38;5;241m/\u001b[39m \u001b[38;5;124m\"\u001b[39m\u001b[38;5;124mraw\u001b[39m\u001b[38;5;124m\"\u001b[39m\n\u001b[1;32m     18\u001b[0m PROCESSED_DIR \u001b[38;5;241m=\u001b[39m PROJECT_ROOT \u001b[38;5;241m/\u001b[39m \u001b[38;5;124m\"\u001b[39m\u001b[38;5;124mdata\u001b[39m\u001b[38;5;124m\"\u001b[39m \u001b[38;5;241m/\u001b[39m \u001b[38;5;124m\"\u001b[39m\u001b[38;5;124mprocessed\u001b[39m\u001b[38;5;124m\"\u001b[39m\n",
            "\u001b[0;31mNameError\u001b[0m: name '__file__' is not defined"
          ]
        }
      ],
      "source": [
        "# EDA inicial — Focos de Queimadas (2019–2024)\n",
        "# Este notebook carrega os CSVs em data/raw/, consolida e gera análises e gráficos básicos.\n",
        "\n",
        "import sys\n",
        "from pathlib import Path\n",
        "\n",
        "import pandas as pd\n",
        "import numpy as np\n",
        "import matplotlib.pyplot as plt\n",
        "import seaborn as sns\n",
        "\n",
        "# Configs\n",
        "pd.set_option(\"display.max_columns\", 100)\n",
        "sns.set(style=\"whitegrid\", context=\"notebook\")\n",
        "\n",
        "PROJECT_ROOT = Path(__file__).resolve().parents[1]\n",
        "RAW_DIR = PROJECT_ROOT / \"data\" / \"raw\"\n",
        "PROCESSED_DIR = PROJECT_ROOT / \"data\" / \"processed\"\n",
        "PROCESSED_DIR.mkdir(parents=True, exist_ok=True)\n",
        "\n",
        "print(\"Project root:\", PROJECT_ROOT)\n",
        "print(\"Raw dir:\", RAW_DIR)\n",
        "print(\"Processed dir:\", PROCESSED_DIR)\n"
      ]
    },
    {
      "cell_type": "code",
      "execution_count": null,
      "metadata": {},
      "outputs": [],
      "source": [
        "# Listar CSVs disponíveis e carregar\n",
        "csv_files = sorted(RAW_DIR.glob(\"*.csv\"))\n",
        "if not csv_files:\n",
        "    raise FileNotFoundError(f\"Nenhum CSV encontrado em {RAW_DIR}. Coloque arquivos .csv no diretório e reexecute.\")\n",
        "\n",
        "csv_files\n"
      ]
    },
    {
      "cell_type": "code",
      "execution_count": null,
      "metadata": {},
      "outputs": [],
      "source": [
        "# Carregar e concatenar\n",
        "usecols = None  # ou liste colunas específicas para otimizar\n",
        "\n",
        "frames = []\n",
        "for fp in csv_files:\n",
        "    try:\n",
        "        df = pd.read_csv(fp, encoding=\"utf-8\", sep=\",\", usecols=usecols, low_memory=False)\n",
        "    except UnicodeDecodeError:\n",
        "        df = pd.read_csv(fp, encoding=\"latin1\", sep=\",\", usecols=usecols, low_memory=False)\n",
        "    df[\"_source_file\"] = fp.name\n",
        "    frames.append(df)\n",
        "\n",
        "raw = pd.concat(frames, ignore_index=True)\n",
        "raw.shape\n"
      ]
    },
    {
      "cell_type": "code",
      "execution_count": null,
      "metadata": {},
      "outputs": [],
      "source": [
        "# Limpeza mínima: normalizar nomes e datas\n",
        "# Tentativa de detectar colunas padrões: data, bioma, estado/UF, municipio\n",
        "cols = {c.lower(): c for c in raw.columns}\n",
        "\n",
        "def get_col(*cands):\n",
        "    for c in cands:\n",
        "        if c in cols:\n",
        "            return cols[c]\n",
        "    return None\n",
        "\n",
        "col_date = get_col(\"data_pas\", \"data\", \"dt\", \"datetime\")\n",
        "col_bioma = get_col(\"bioma\")\n",
        "col_uf = get_col(\"estado\", \"uf\")\n",
        "col_muni = get_col(\"municipio\", \"município\", \"munic\")\n",
        "\n",
        "if col_date is None:\n",
        "    raise KeyError(\"Não encontrei coluna de data (ex.: data_pas). Atualize o mapeamento.\")\n",
        "\n",
        "raw[\"date\"] = pd.to_datetime(raw[col_date], errors=\"coerce\")\n",
        "if raw[\"date\"].isna().all():\n",
        "    raise ValueError(\"Falha ao converter datas. Verifique o formato em data_pas.\")\n",
        "\n",
        "# Normalização simples de texto\n",
        "for c in [col_bioma, col_uf, col_muni]:\n",
        "    if c and c in raw.columns:\n",
        "        raw[c] = raw[c].astype(str).str.strip()\n",
        "\n",
        "raw[\"year\"] = raw[\"date\"].dt.year\n",
        "raw[\"month\"] = raw[\"date\"].dt.to_period(\"M\").astype(str)\n",
        "raw[\"day\"] = raw[\"date\"].dt.date\n",
        "\n",
        "raw.head()\n"
      ]
    },
    {
      "cell_type": "code",
      "execution_count": null,
      "metadata": {},
      "outputs": [],
      "source": [
        "# Sumários básicos\n",
        "print(\"Linhas:\", len(raw))\n",
        "print(\"Colunas:\", raw.shape[1])\n",
        "print(\"Período:\", raw['date'].min(), \"->\", raw['date'].max())\n",
        "\n",
        "# Contagem diária total\n",
        "by_day = raw.groupby('day').size().rename('focos').reset_index()\n",
        "by_day.head(), by_day.tail()\n"
      ]
    },
    {
      "cell_type": "code",
      "execution_count": null,
      "metadata": {},
      "outputs": [],
      "source": [
        "# Gráficos: série temporal diária (total)\n",
        "fig, ax = plt.subplots(figsize=(12, 4))\n",
        "ax.plot(by_day['day'], by_day['focos'], color='tab:red', linewidth=1)\n",
        "ax.set_title('Focos por dia (total)')\n",
        "ax.set_xlabel('Dia')\n",
        "ax.set_ylabel('Focos')\n",
        "plt.tight_layout()\n",
        "plt.show()\n"
      ]
    },
    {
      "cell_type": "code",
      "execution_count": null,
      "metadata": {},
      "outputs": [],
      "source": [
        "# Agregações por bioma e UF (se existirem)\n",
        "plots = []\n",
        "if col_bioma and col_bioma in raw.columns:\n",
        "    by_bioma = raw.groupby([col_bioma, 'month']).size().rename('focos').reset_index()\n",
        "    pivot_bioma = by_bioma.pivot(index='month', columns=col_bioma, values='focos').fillna(0)\n",
        "    plots.append(('Focos por mês e bioma', pivot_bioma))\n",
        "\n",
        "if col_uf and col_uf in raw.columns:\n",
        "    by_uf = raw.groupby([col_uf, 'month']).size().rename('focos').reset_index()\n",
        "    pivot_uf = by_uf.pivot(index='month', columns=col_uf, values='focos').fillna(0)\n",
        "    plots.append(('Focos por mês e UF', pivot_uf))\n",
        "\n",
        "for title, pv in plots:\n",
        "    fig, ax = plt.subplots(figsize=(12, 5))\n",
        "    pv.plot(ax=ax)\n",
        "    ax.set_title(title)\n",
        "    ax.set_xlabel('Mês')\n",
        "    ax.set_ylabel('Focos')\n",
        "    plt.tight_layout()\n",
        "    plt.show()\n",
        "\n",
        "len(plots)\n"
      ]
    },
    {
      "cell_type": "code",
      "execution_count": null,
      "metadata": {},
      "outputs": [],
      "source": [
        "# Exportar artefatos mínimos\n",
        "by_day.to_csv(PROCESSED_DIR / \"focos_por_dia.csv\", index=False)\n",
        "if 'pivot_bioma' in globals():\n",
        "    pivot_bioma.to_csv(PROCESSED_DIR / \"focos_mes_bioma.csv\")\n",
        "if 'pivot_uf' in globals():\n",
        "    pivot_uf.to_csv(PROCESSED_DIR / \"focos_mes_uf.csv\")\n",
        "print(\"Arquivos exportados em:\", PROCESSED_DIR)\n"
      ]
    }
  ],
  "metadata": {
    "kernelspec": {
      "display_name": "Python 3",
      "language": "python",
      "name": "python3"
    },
    "language_info": {
      "codemirror_mode": {
        "name": "ipython",
        "version": 3
      },
      "file_extension": ".py",
      "mimetype": "text/x-python",
      "name": "python",
      "nbconvert_exporter": "python",
      "pygments_lexer": "ipython3",
      "version": "3.13.1"
    }
  },
  "nbformat": 4,
  "nbformat_minor": 2
}
