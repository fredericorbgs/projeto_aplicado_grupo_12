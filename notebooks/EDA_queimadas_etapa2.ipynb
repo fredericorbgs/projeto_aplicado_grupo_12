{
 "cells": [
  {
   "cell_type": "markdown",
   "metadata": {},
   "source": [
    "# EDA - Focos de Queimadas no Brasil (2019-2024)\n",
    "## Etapa 2 - Análise Exploratória de Dados\n",
    "\n",
    "Este notebook implementa a análise exploratória de dados para o projeto, alinhado ao documento LaTeX `docs/projeto_aplicado.tex`.\n",
    "\n",
    "**Conteúdo:**\n",
    "1. Carregamento e descrição dos dados\n",
    "2. Estatísticas descritivas (posição, dispersão, CV)\n",
    "3. Distribuições e visualizações\n",
    "4. Séries temporais e sazonalidade\n",
    "5. Detecção de anomalias e outliers"
   ]
  },
  {
   "cell_type": "code",
   "execution_count": null,
   "metadata": {},
   "outputs": [],
   "source": [
    "# Configuração inicial\n",
    "import sys\n",
    "from pathlib import Path\n",
    "import warnings\n",
    "warnings.filterwarnings('ignore')\n",
    "\n",
    "import pandas as pd\n",
    "import numpy as np\n",
    "import matplotlib.pyplot as plt\n",
    "import matplotlib.dates as mdates\n",
    "\n",
    "# Configurações de exibição\n",
    "pd.set_option('display.max_columns', 50)\n",
    "pd.set_option('display.max_rows', 100)\n",
    "plt.rcParams['figure.dpi'] = 100\n",
    "plt.rcParams['font.size'] = 10\n",
    "\n",
    "# Resolver diretórios\n",
    "if '__file__' in globals():\n",
    "    PROJECT_ROOT = Path(__file__).resolve().parents[1]\n",
    "else:\n",
    "    cwd = Path.cwd().resolve()\n",
    "    PROJECT_ROOT = cwd.parent if cwd.name == 'notebooks' else cwd\n",
    "\n",
    "DATA_DIR = PROJECT_ROOT / 'data'\n",
    "PROCESSED_DIR = DATA_DIR / 'processed'\n",
    "FIGS_DIR = PROJECT_ROOT / 'figs' / 'eda'\n",
    "\n",
    "print(f\"Diretório do projeto: {PROJECT_ROOT}\")\n",
    "print(f\"Diretório de dados processados: {PROCESSED_DIR}\")\n",
    "print(f\"Diretório de figuras: {FIGS_DIR}\")"
   ]
  },
  {
   "cell_type": "markdown",
   "metadata": {},
   "source": [
    "## 1. Carregamento dos Dados\n",
    "\n",
    "Carregamos o arquivo Parquet consolidado gerado pelo script `src/pipeline_ingestao.py`."
   ]
  },
  {
   "cell_type": "code",
   "execution_count": null,
   "metadata": {},
   "outputs": [],
   "source": [
    "# Carregar dados consolidados\n",
    "parquet_path = PROCESSED_DIR / 'focos_2019_2024.parquet'\n",
    "\n",
    "if not parquet_path.exists():\n",
    "    raise FileNotFoundError(\n",
    "        f\"Arquivo {parquet_path} não encontrado. \"\n",
    "        \"Execute: python -m src.pipeline_ingestao\"\n",
    "    )\n",
    "\n",
    "df = pd.read_parquet(parquet_path)\n",
    "print(f\"Registros carregados: {len(df):,}\")\n",
    "print(f\"Colunas: {df.shape[1]}\")\n",
    "print(f\"\\nPeríodo: {df['date'].min().date()} a {df['date'].max().date()}\")"
   ]
  },
  {
   "cell_type": "code",
   "execution_count": null,
   "metadata": {},
   "outputs": [],
   "source": [
    "# Primeiras linhas\n",
    "df.head(10)"
   ]
  },
  {
   "cell_type": "code",
   "execution_count": null,
   "metadata": {},
   "outputs": [],
   "source": [
    "# Informações sobre as colunas\n",
    "df.info()"
   ]
  },
  {
   "cell_type": "markdown",
   "metadata": {},
   "source": [
    "## 2. Estatísticas Descritivas\n",
    "\n",
    "### 2.1 Resumo das colunas"
   ]
  },
  {
   "cell_type": "code",
   "execution_count": null,
   "metadata": {},
   "outputs": [],
   "source": [
    "# Estatísticas básicas para colunas numéricas\n",
    "df.describe()"
   ]
  },
  {
   "cell_type": "code",
   "execution_count": null,
   "metadata": {},
   "outputs": [],
   "source": [
    "# Valores ausentes\n",
    "missing = df.isna().sum()\n",
    "missing_pct = (missing / len(df) * 100).round(2)\n",
    "missing_df = pd.DataFrame({\n",
    "    'n_missing': missing,\n",
    "    'pct_missing': missing_pct\n",
    "})\n",
    "missing_df[missing_df['n_missing'] > 0].sort_values('n_missing', ascending=False)"
   ]
  },
  {
   "cell_type": "markdown",
   "metadata": {},
   "source": [
    "### 2.2 Distribuição por Bioma"
   ]
  },
  {
   "cell_type": "code",
   "execution_count": null,
   "metadata": {},
   "outputs": [],
   "source": [
    "# Contagem por bioma\n",
    "bioma_col = 'bioma' if 'bioma' in df.columns else None\n",
    "\n",
    "if bioma_col:\n",
    "    by_bioma = df[bioma_col].value_counts()\n",
    "    print(\"Focos por Bioma:\")\n",
    "    print(by_bioma)\n",
    "    print(f\"\\nTotal de biomas: {df[bioma_col].nunique()}\")\n",
    "else:\n",
    "    print(\"Coluna 'bioma' não encontrada\")"
   ]
  },
  {
   "cell_type": "markdown",
   "metadata": {},
   "source": [
    "### 2.3 Distribuição por UF"
   ]
  },
  {
   "cell_type": "code",
   "execution_count": null,
   "metadata": {},
   "outputs": [],
   "source": [
    "# Contagem por UF\n",
    "uf_col = 'estado' if 'estado' in df.columns else ('uf' if 'uf' in df.columns else None)\n",
    "\n",
    "if uf_col:\n",
    "    by_uf = df[uf_col].value_counts().head(15)\n",
    "    print(\"Top 15 UFs por número de focos:\")\n",
    "    print(by_uf)\n",
    "else:\n",
    "    print(\"Coluna de UF não encontrada\")"
   ]
  },
  {
   "cell_type": "markdown",
   "metadata": {},
   "source": [
    "### 2.4 Estatísticas de agregação diária"
   ]
  },
  {
   "cell_type": "code",
   "execution_count": null,
   "metadata": {},
   "outputs": [],
   "source": [
    "# Agregar por dia\n",
    "by_day = df.groupby('day').size().reset_index(name='focos')\n",
    "by_day['day'] = pd.to_datetime(by_day['day'])\n",
    "\n",
    "# Estatísticas de focos por dia\n",
    "print(\"Estatísticas de focos por dia:\")\n",
    "print(f\"  Média: {by_day['focos'].mean():.2f}\")\n",
    "print(f\"  Mediana: {by_day['focos'].median():.2f}\")\n",
    "print(f\"  Desvio padrão: {by_day['focos'].std():.2f}\")\n",
    "print(f\"  Variância: {by_day['focos'].var():.2f}\")\n",
    "print(f\"  Mínimo: {by_day['focos'].min()}\")\n",
    "print(f\"  Máximo: {by_day['focos'].max()}\")\n",
    "print(f\"  Q1 (25%): {by_day['focos'].quantile(0.25):.2f}\")\n",
    "print(f\"  Q3 (75%): {by_day['focos'].quantile(0.75):.2f}\")\n",
    "print(f\"  IQR: {by_day['focos'].quantile(0.75) - by_day['focos'].quantile(0.25):.2f}\")\n",
    "print(f\"  CV: {(by_day['focos'].std() / by_day['focos'].mean() * 100):.2f}%\")"
   ]
  },
  {
   "cell_type": "markdown",
   "metadata": {},
   "source": [
    "## 3. Visualizações\n",
    "\n",
    "### 3.1 Série temporal geral"
   ]
  },
  {
   "cell_type": "code",
   "execution_count": null,
   "metadata": {},
   "outputs": [],
   "source": [
    "# Série temporal de focos por dia\n",
    "fig, ax = plt.subplots(figsize=(14, 5))\n",
    "ax.plot(by_day['day'], by_day['focos'], color='darkred', linewidth=0.8, alpha=0.7)\n",
    "ax.set_title('Focos de Queimadas por Dia (2019-2024)', fontsize=14, fontweight='bold')\n",
    "ax.set_xlabel('Data')\n",
    "ax.set_ylabel('Número de focos')\n",
    "ax.grid(True, alpha=0.3)\n",
    "ax.xaxis.set_major_formatter(mdates.DateFormatter('%Y-%m'))\n",
    "plt.xticks(rotation=45)\n",
    "plt.tight_layout()\n",
    "plt.show()"
   ]
  },
  {
   "cell_type": "markdown",
   "metadata": {},
   "source": [
    "### 3.2 Séries temporais por Bioma"
   ]
  },
  {
   "cell_type": "code",
   "execution_count": null,
   "metadata": {},
   "outputs": [],
   "source": [
    "# Séries por bioma (usar a imagem gerada)\n",
    "from IPython.display import Image, display\n",
    "\n",
    "img_path = FIGS_DIR / 'series_bioma.png'\n",
    "if img_path.exists():\n",
    "    display(Image(filename=str(img_path)))\n",
    "else:\n",
    "    print(f\"Figura não encontrada: {img_path}\")\n",
    "    print(\"Execute: python -m src.eda_utils\")"
   ]
  },
  {
   "cell_type": "markdown",
   "metadata": {},
   "source": [
    "### 3.3 Boxplot por Bioma"
   ]
  },
  {
   "cell_type": "code",
   "execution_count": null,
   "metadata": {},
   "outputs": [],
   "source": [
    "# Boxplot por bioma\n",
    "img_path = FIGS_DIR / 'boxplot_bioma.png'\n",
    "if img_path.exists():\n",
    "    display(Image(filename=str(img_path)))\n",
    "else:\n",
    "    print(f\"Figura não encontrada: {img_path}\")"
   ]
  },
  {
   "cell_type": "markdown",
   "metadata": {},
   "source": [
    "### 3.4 Top 10 UFs"
   ]
  },
  {
   "cell_type": "code",
   "execution_count": null,
   "metadata": {},
   "outputs": [],
   "source": [
    "# Top 10 UFs\n",
    "img_path = FIGS_DIR / 'top10_uf.png'\n",
    "if img_path.exists():\n",
    "    display(Image(filename=str(img_path)))\n",
    "else:\n",
    "    print(f\"Figura não encontrada: {img_path}\")"
   ]
  },
  {
   "cell_type": "markdown",
   "metadata": {},
   "source": [
    "### 3.5 Distribuição de focos diários (Histograma)"
   ]
  },
  {
   "cell_type": "code",
   "execution_count": null,
   "metadata": {},
   "outputs": [],
   "source": [
    "# Histograma de focos por dia\n",
    "fig, ax = plt.subplots(figsize=(10, 5))\n",
    "ax.hist(by_day['focos'], bins=50, color='steelblue', alpha=0.7, edgecolor='black')\n",
    "ax.set_title('Distribuição de Focos Diários', fontsize=12, fontweight='bold')\n",
    "ax.set_xlabel('Número de focos por dia')\n",
    "ax.set_ylabel('Frequência')\n",
    "ax.grid(True, alpha=0.3, axis='y')\n",
    "plt.tight_layout()\n",
    "plt.show()"
   ]
  },
  {
   "cell_type": "markdown",
   "metadata": {},
   "source": [
    "## 4. Sazonalidade\n",
    "\n",
    "### 4.1 Focos por mês do ano"
   ]
  },
  {
   "cell_type": "code",
   "execution_count": null,
   "metadata": {},
   "outputs": [],
   "source": [
    "# Agregar por mês (1-12)\n",
    "if 'month' in df.columns:\n",
    "    by_month = df.groupby('month').size().reset_index(name='focos')\n",
    "    \n",
    "    fig, ax = plt.subplots(figsize=(10, 5))\n",
    "    ax.bar(by_month['month'], by_month['focos'], color='coral', alpha=0.8)\n",
    "    ax.set_title('Focos por Mês (Agregado 2019-2024)', fontsize=12, fontweight='bold')\n",
    "    ax.set_xlabel('Mês')\n",
    "    ax.set_ylabel('Total de focos')\n",
    "    ax.set_xticks(range(1, 13))\n",
    "    ax.set_xticklabels(['Jan', 'Fev', 'Mar', 'Abr', 'Mai', 'Jun', \n",
    "                        'Jul', 'Ago', 'Set', 'Out', 'Nov', 'Dez'])\n",
    "    ax.grid(True, alpha=0.3, axis='y')\n",
    "    plt.tight_layout()\n",
    "    plt.show()\n",
    "else:\n",
    "    print(\"Coluna 'month' não encontrada\")"
   ]
  },
  {
   "cell_type": "markdown",
   "metadata": {},
   "source": [
    "## 5. Detecção de Anomalias\n",
    "\n",
    "### 5.1 Z-score robusto (MAD)"
   ]
  },
  {
   "cell_type": "code",
   "execution_count": null,
   "metadata": {},
   "outputs": [],
   "source": [
    "# Carregar anomalias detectadas\n",
    "anomalies_path = PROCESSED_DIR / 'anomalias_top.csv'\n",
    "\n",
    "if anomalies_path.exists():\n",
    "    anomalies = pd.read_csv(anomalies_path)\n",
    "    print(f\"Anomalias detectadas: {len(anomalies)}\")\n",
    "    print(\"\\nTop 10 dias com maior número de focos (anomalias):\")\n",
    "    display(anomalies.head(10))\n",
    "else:\n",
    "    print(f\"Arquivo {anomalies_path} não encontrado\")\n",
    "    print(\"Execute: python -m src.eda_utils\")"
   ]
  },
  {
   "cell_type": "markdown",
   "metadata": {},
   "source": [
    "### 5.2 Visualização de anomalias"
   ]
  },
  {
   "cell_type": "code",
   "execution_count": null,
   "metadata": {},
   "outputs": [],
   "source": [
    "# Plotar série com anomalias destacadas\n",
    "if anomalies_path.exists():\n",
    "    anomalies = pd.read_csv(anomalies_path)\n",
    "    anomalies['day'] = pd.to_datetime(anomalies['day'])\n",
    "    \n",
    "    fig, ax = plt.subplots(figsize=(14, 5))\n",
    "    ax.plot(by_day['day'], by_day['focos'], color='gray', linewidth=0.8, alpha=0.6, label='Normal')\n",
    "    ax.scatter(anomalies['day'], anomalies['focos'], color='red', s=30, alpha=0.7, \n",
    "               label='Anomalias', zorder=5)\n",
    "    ax.set_title('Focos por Dia com Anomalias Destacadas', fontsize=14, fontweight='bold')\n",
    "    ax.set_xlabel('Data')\n",
    "    ax.set_ylabel('Número de focos')\n",
    "    ax.legend()\n",
    "    ax.grid(True, alpha=0.3)\n",
    "    ax.xaxis.set_major_formatter(mdates.DateFormatter('%Y-%m'))\n",
    "    plt.xticks(rotation=45)\n",
    "    plt.tight_layout()\n",
    "    plt.show()\n",
    "else:\n",
    "    print(\"Anomalias não disponíveis\")"
   ]
  },
  {
   "cell_type": "markdown",
   "metadata": {},
   "source": [
    "## 6. Conclusões da AED\n",
    "\n",
    "Esta análise exploratória demonstra:\n",
    "\n",
    "1. **Volume de dados**: Mais de 2 milhões de registros consolidados de focos de queimadas entre 2019 e 2024\n",
    "2. **Distribuição espacial**: Concentração em biomas específicos (Amazônia, Cerrado) e estados críticos\n",
    "3. **Sazonalidade**: Padrão claro de aumento de focos nos meses de seca (jul-out)\n",
    "4. **Anomalias**: Identificados dias com picos atípicos que merecem investigação adicional\n",
    "5. **Qualidade dos dados**: Dados limpos com mínima presença de valores ausentes após tratamento\n",
    "\n",
    "Os artefatos gerados (figuras e CSVs) estão referenciados no documento LaTeX `docs/projeto_aplicado.tex`."
   ]
  }
 ],
 "metadata": {
  "kernelspec": {
   "display_name": "Python 3",
   "language": "python",
   "name": "python3"
  },
  "language_info": {
   "codemirror_mode": {
    "name": "ipython",
    "version": 3
   },
   "file_extension": ".py",
   "mimetype": "text/x-python",
   "name": "python",
   "nbconvert_exporter": "python",
   "pygments_lexer": "ipython3",
   "version": "3.11.0"
  }
 },
 "nbformat": 4,
 "nbformat_minor": 4
}
